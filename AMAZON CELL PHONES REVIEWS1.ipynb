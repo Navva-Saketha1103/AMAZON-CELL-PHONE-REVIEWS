{
 "cells": [
  {
   "cell_type": "code",
   "execution_count": 165,
   "metadata": {},
   "outputs": [],
   "source": [
    "import pandas as pd\n",
    "import numpy as np \n",
    "import matplotlib.pyplot as plt"
   ]
  },
  {
   "cell_type": "code",
   "execution_count": 166,
   "metadata": {},
   "outputs": [],
   "source": [
    "mobiles=pd.read_csv(r\"C:\\Users\\HP\\AppData\\Local\\Temp\\Temp1_AMAZON DATASET.zip\\AMAZON DATASET.csv\")\n"
   ]
  },
  {
   "cell_type": "code",
   "execution_count": 167,
   "metadata": {},
   "outputs": [
    {
     "data": {
      "text/plain": [
       "(792, 9)"
      ]
     },
     "execution_count": 167,
     "metadata": {},
     "output_type": "execute_result"
    }
   ],
   "source": [
    "mobiles.shape"
   ]
  },
  {
   "cell_type": "code",
   "execution_count": 168,
   "metadata": {},
   "outputs": [
    {
     "data": {
      "text/html": [
       "<div>\n",
       "<style scoped>\n",
       "    .dataframe tbody tr th:only-of-type {\n",
       "        vertical-align: middle;\n",
       "    }\n",
       "\n",
       "    .dataframe tbody tr th {\n",
       "        vertical-align: top;\n",
       "    }\n",
       "\n",
       "    .dataframe thead th {\n",
       "        text-align: right;\n",
       "    }\n",
       "</style>\n",
       "<table border=\"1\" class=\"dataframe\">\n",
       "  <thead>\n",
       "    <tr style=\"text-align: right;\">\n",
       "      <th></th>\n",
       "      <th>asin</th>\n",
       "      <th>brand</th>\n",
       "      <th>title</th>\n",
       "      <th>url</th>\n",
       "      <th>image</th>\n",
       "      <th>rating</th>\n",
       "      <th>reviewUrl</th>\n",
       "      <th>totalReviews</th>\n",
       "      <th>prices</th>\n",
       "    </tr>\n",
       "  </thead>\n",
       "  <tbody>\n",
       "    <tr>\n",
       "      <th>0</th>\n",
       "      <td>B0000SX2UC</td>\n",
       "      <td>Nokia</td>\n",
       "      <td>Dual-Band / Tri-Mode Sprint PCS Phone w/ Voice...</td>\n",
       "      <td>https://www.amazon.com/Dual-Band-Tri-Mode-Acti...</td>\n",
       "      <td>https://m.media-amazon.com/images/I/2143EBQ210...</td>\n",
       "      <td>3.0</td>\n",
       "      <td>https://www.amazon.com/product-reviews/B0000SX2UC</td>\n",
       "      <td>14</td>\n",
       "      <td>NaN</td>\n",
       "    </tr>\n",
       "    <tr>\n",
       "      <th>1</th>\n",
       "      <td>B0009N5L7K</td>\n",
       "      <td>Motorola</td>\n",
       "      <td>Motorola I265 phone</td>\n",
       "      <td>https://www.amazon.com/Motorola-i265-I265-phon...</td>\n",
       "      <td>https://m.media-amazon.com/images/I/419WBAVDAR...</td>\n",
       "      <td>2.9</td>\n",
       "      <td>https://www.amazon.com/product-reviews/B0009N5L7K</td>\n",
       "      <td>7</td>\n",
       "      <td>$49.95</td>\n",
       "    </tr>\n",
       "    <tr>\n",
       "      <th>2</th>\n",
       "      <td>B000SKTZ0S</td>\n",
       "      <td>Motorola</td>\n",
       "      <td>MOTOROLA C168i AT&amp;T CINGULAR PREPAID GOPHONE C...</td>\n",
       "      <td>https://www.amazon.com/MOTOROLA-C168i-CINGULAR...</td>\n",
       "      <td>https://m.media-amazon.com/images/I/71b+q3ydkI...</td>\n",
       "      <td>2.6</td>\n",
       "      <td>https://www.amazon.com/product-reviews/B000SKTZ0S</td>\n",
       "      <td>22</td>\n",
       "      <td>NaN</td>\n",
       "    </tr>\n",
       "    <tr>\n",
       "      <th>3</th>\n",
       "      <td>B00198M12M</td>\n",
       "      <td>Nokia</td>\n",
       "      <td>Nokia 6500 Slide Black/silver Unlocked Cell Phone</td>\n",
       "      <td>https://www.amazon.com/Nokia-6500-Slide-silver...</td>\n",
       "      <td>https://m.media-amazon.com/images/I/41ss4HpLkL...</td>\n",
       "      <td>2.4</td>\n",
       "      <td>https://www.amazon.com/product-reviews/B00198M12M</td>\n",
       "      <td>5</td>\n",
       "      <td>NaN</td>\n",
       "    </tr>\n",
       "    <tr>\n",
       "      <th>4</th>\n",
       "      <td>B001AO4OUC</td>\n",
       "      <td>Motorola</td>\n",
       "      <td>Motorola i335 Cell Phone Boost Mobile</td>\n",
       "      <td>https://www.amazon.com/Motorola-i335-Phone-Boo...</td>\n",
       "      <td>https://m.media-amazon.com/images/I/710UO8gdT+...</td>\n",
       "      <td>3.3</td>\n",
       "      <td>https://www.amazon.com/product-reviews/B001AO4OUC</td>\n",
       "      <td>21</td>\n",
       "      <td>NaN</td>\n",
       "    </tr>\n",
       "    <tr>\n",
       "      <th>...</th>\n",
       "      <td>...</td>\n",
       "      <td>...</td>\n",
       "      <td>...</td>\n",
       "      <td>...</td>\n",
       "      <td>...</td>\n",
       "      <td>...</td>\n",
       "      <td>...</td>\n",
       "      <td>...</td>\n",
       "      <td>...</td>\n",
       "    </tr>\n",
       "    <tr>\n",
       "      <th>787</th>\n",
       "      <td>B07WFJ6HRF</td>\n",
       "      <td>Apple</td>\n",
       "      <td>Apple iPhone XS, 512GB, Gold - For Verizon (Re...</td>\n",
       "      <td>https://www.amazon.com/Apple-iPhone-XS-512GB-G...</td>\n",
       "      <td>https://m.media-amazon.com/images/I/71kt40Gjzt...</td>\n",
       "      <td>3.7</td>\n",
       "      <td>https://www.amazon.com/product-reviews/B07WFJ6HRF</td>\n",
       "      <td>50</td>\n",
       "      <td>$999.95,$1,349.99</td>\n",
       "    </tr>\n",
       "    <tr>\n",
       "      <th>788</th>\n",
       "      <td>B07WKSVF6X</td>\n",
       "      <td>Samsung</td>\n",
       "      <td>Samsung Galaxy A50 128GB, 4GB RAM 6.4\" Display...</td>\n",
       "      <td>https://www.amazon.com/Samsung-A50-Display-Fac...</td>\n",
       "      <td>https://m.media-amazon.com/images/I/61HyCNLJ2+...</td>\n",
       "      <td>4.7</td>\n",
       "      <td>https://www.amazon.com/product-reviews/B07WKSVF6X</td>\n",
       "      <td>7</td>\n",
       "      <td>$304.99</td>\n",
       "    </tr>\n",
       "    <tr>\n",
       "      <th>789</th>\n",
       "      <td>B07WVRJQ7V</td>\n",
       "      <td>Samsung</td>\n",
       "      <td>Samsung Galaxy S9 (64GB, 4GB RAM) 5.8\" QHD+ Di...</td>\n",
       "      <td>https://www.amazon.com/Samsung-Galaxy-S9-Displ...</td>\n",
       "      <td>https://m.media-amazon.com/images/I/71EpwFTgLO...</td>\n",
       "      <td>2.0</td>\n",
       "      <td>https://www.amazon.com/product-reviews/B07WVRJQ7V</td>\n",
       "      <td>1</td>\n",
       "      <td>$519.99</td>\n",
       "    </tr>\n",
       "    <tr>\n",
       "      <th>790</th>\n",
       "      <td>B07WXKWDT2</td>\n",
       "      <td>Motorola</td>\n",
       "      <td>Motorola Moto G7 Play (32GB, 2GB RAM) 5.7\" HD+...</td>\n",
       "      <td>https://www.amazon.com/Motorola-Vision-Display...</td>\n",
       "      <td>https://m.media-amazon.com/images/I/51xgfG4A28...</td>\n",
       "      <td>3.0</td>\n",
       "      <td>https://www.amazon.com/product-reviews/B07WXKWDT2</td>\n",
       "      <td>5</td>\n",
       "      <td>$139.99</td>\n",
       "    </tr>\n",
       "    <tr>\n",
       "      <th>791</th>\n",
       "      <td>B07X51T2VK</td>\n",
       "      <td>HUAWEI</td>\n",
       "      <td>Honor 5X Unlocked Smartphone, 16GB Dark Grey (...</td>\n",
       "      <td>https://www.amazon.com/Honor-Unlocked-Smartpho...</td>\n",
       "      <td>https://m.media-amazon.com/images/I/71qG253Lcx...</td>\n",
       "      <td>4.0</td>\n",
       "      <td>https://www.amazon.com/product-reviews/B07X51T2VK</td>\n",
       "      <td>1</td>\n",
       "      <td>$74.99</td>\n",
       "    </tr>\n",
       "  </tbody>\n",
       "</table>\n",
       "<p>792 rows × 9 columns</p>\n",
       "</div>"
      ],
      "text/plain": [
       "           asin     brand                                              title  \\\n",
       "0    B0000SX2UC     Nokia  Dual-Band / Tri-Mode Sprint PCS Phone w/ Voice...   \n",
       "1    B0009N5L7K  Motorola                                Motorola I265 phone   \n",
       "2    B000SKTZ0S  Motorola  MOTOROLA C168i AT&T CINGULAR PREPAID GOPHONE C...   \n",
       "3    B00198M12M     Nokia  Nokia 6500 Slide Black/silver Unlocked Cell Phone   \n",
       "4    B001AO4OUC  Motorola              Motorola i335 Cell Phone Boost Mobile   \n",
       "..          ...       ...                                                ...   \n",
       "787  B07WFJ6HRF     Apple  Apple iPhone XS, 512GB, Gold - For Verizon (Re...   \n",
       "788  B07WKSVF6X   Samsung  Samsung Galaxy A50 128GB, 4GB RAM 6.4\" Display...   \n",
       "789  B07WVRJQ7V   Samsung  Samsung Galaxy S9 (64GB, 4GB RAM) 5.8\" QHD+ Di...   \n",
       "790  B07WXKWDT2  Motorola  Motorola Moto G7 Play (32GB, 2GB RAM) 5.7\" HD+...   \n",
       "791  B07X51T2VK    HUAWEI  Honor 5X Unlocked Smartphone, 16GB Dark Grey (...   \n",
       "\n",
       "                                                   url  \\\n",
       "0    https://www.amazon.com/Dual-Band-Tri-Mode-Acti...   \n",
       "1    https://www.amazon.com/Motorola-i265-I265-phon...   \n",
       "2    https://www.amazon.com/MOTOROLA-C168i-CINGULAR...   \n",
       "3    https://www.amazon.com/Nokia-6500-Slide-silver...   \n",
       "4    https://www.amazon.com/Motorola-i335-Phone-Boo...   \n",
       "..                                                 ...   \n",
       "787  https://www.amazon.com/Apple-iPhone-XS-512GB-G...   \n",
       "788  https://www.amazon.com/Samsung-A50-Display-Fac...   \n",
       "789  https://www.amazon.com/Samsung-Galaxy-S9-Displ...   \n",
       "790  https://www.amazon.com/Motorola-Vision-Display...   \n",
       "791  https://www.amazon.com/Honor-Unlocked-Smartpho...   \n",
       "\n",
       "                                                 image  rating  \\\n",
       "0    https://m.media-amazon.com/images/I/2143EBQ210...     3.0   \n",
       "1    https://m.media-amazon.com/images/I/419WBAVDAR...     2.9   \n",
       "2    https://m.media-amazon.com/images/I/71b+q3ydkI...     2.6   \n",
       "3    https://m.media-amazon.com/images/I/41ss4HpLkL...     2.4   \n",
       "4    https://m.media-amazon.com/images/I/710UO8gdT+...     3.3   \n",
       "..                                                 ...     ...   \n",
       "787  https://m.media-amazon.com/images/I/71kt40Gjzt...     3.7   \n",
       "788  https://m.media-amazon.com/images/I/61HyCNLJ2+...     4.7   \n",
       "789  https://m.media-amazon.com/images/I/71EpwFTgLO...     2.0   \n",
       "790  https://m.media-amazon.com/images/I/51xgfG4A28...     3.0   \n",
       "791  https://m.media-amazon.com/images/I/71qG253Lcx...     4.0   \n",
       "\n",
       "                                             reviewUrl  totalReviews  \\\n",
       "0    https://www.amazon.com/product-reviews/B0000SX2UC            14   \n",
       "1    https://www.amazon.com/product-reviews/B0009N5L7K             7   \n",
       "2    https://www.amazon.com/product-reviews/B000SKTZ0S            22   \n",
       "3    https://www.amazon.com/product-reviews/B00198M12M             5   \n",
       "4    https://www.amazon.com/product-reviews/B001AO4OUC            21   \n",
       "..                                                 ...           ...   \n",
       "787  https://www.amazon.com/product-reviews/B07WFJ6HRF            50   \n",
       "788  https://www.amazon.com/product-reviews/B07WKSVF6X             7   \n",
       "789  https://www.amazon.com/product-reviews/B07WVRJQ7V             1   \n",
       "790  https://www.amazon.com/product-reviews/B07WXKWDT2             5   \n",
       "791  https://www.amazon.com/product-reviews/B07X51T2VK             1   \n",
       "\n",
       "                prices  \n",
       "0                  NaN  \n",
       "1               $49.95  \n",
       "2                  NaN  \n",
       "3                  NaN  \n",
       "4                  NaN  \n",
       "..                 ...  \n",
       "787  $999.95,$1,349.99  \n",
       "788            $304.99  \n",
       "789            $519.99  \n",
       "790            $139.99  \n",
       "791             $74.99  \n",
       "\n",
       "[792 rows x 9 columns]"
      ]
     },
     "execution_count": 168,
     "metadata": {},
     "output_type": "execute_result"
    }
   ],
   "source": [
    "mobiles"
   ]
  },
  {
   "cell_type": "code",
   "execution_count": 146,
   "metadata": {},
   "outputs": [],
   "source": [
    "a=np.array([0,0,0,0,0])\n"
   ]
  },
  {
   "cell_type": "code",
   "execution_count": 147,
   "metadata": {},
   "outputs": [
    {
     "name": "stderr",
     "output_type": "stream",
     "text": [
      "c:\\users\\hp\\appdata\\local\\programs\\python\\python37-32\\lib\\site-packages\\ipykernel_launcher.py:2: FutureWarning: get_value is deprecated and will be removed in a future release. Please use .at[] or .iat[] accessors instead\n",
      "  \n",
      "c:\\users\\hp\\appdata\\local\\programs\\python\\python37-32\\lib\\site-packages\\ipykernel_launcher.py:4: FutureWarning: get_value is deprecated and will be removed in a future release. Please use .at[] or .iat[] accessors instead\n",
      "  after removing the cwd from sys.path.\n",
      "c:\\users\\hp\\appdata\\local\\programs\\python\\python37-32\\lib\\site-packages\\ipykernel_launcher.py:6: FutureWarning: get_value is deprecated and will be removed in a future release. Please use .at[] or .iat[] accessors instead\n",
      "  \n",
      "c:\\users\\hp\\appdata\\local\\programs\\python\\python37-32\\lib\\site-packages\\ipykernel_launcher.py:8: FutureWarning: get_value is deprecated and will be removed in a future release. Please use .at[] or .iat[] accessors instead\n",
      "  \n",
      "c:\\users\\hp\\appdata\\local\\programs\\python\\python37-32\\lib\\site-packages\\ipykernel_launcher.py:10: FutureWarning: get_value is deprecated and will be removed in a future release. Please use .at[] or .iat[] accessors instead\n",
      "  # Remove the CWD from sys.path while we load stuff.\n"
     ]
    },
    {
     "data": {
      "text/plain": [
       "[563, 93, 46, 38, 14]"
      ]
     },
     "execution_count": 147,
     "metadata": {},
     "output_type": "execute_result"
    }
   ],
   "source": [
    "for i in range(len(mobiles)):\n",
    "    if(mobiles['totalReviews'].get_value(i)>=1.00 and mobiles['totalReviews'].get_value(i)<99.30):\n",
    "        a[0]+=1\n",
    "    if(mobiles['totalReviews'].get_value(i)>=99.30 and mobiles['totalReviews'].get_value(i)<197.60):\n",
    "        a[1]+=1\n",
    "    if(mobiles['totalReviews'].get_value(i)>=197.60 and mobiles['totalReviews'].get_value(i)<295.90):\n",
    "        a[2]+=1\n",
    "    if(mobiles['totalReviews'].get_value(i)>=295.90 and mobiles['totalReviews'].get_value(i)<394.20):\n",
    "        a[3]+=1\n",
    "    if(mobiles['totalReviews'].get_value(i)>=394.20 and mobiles['totalReviews'].get_value(i)<492.50):\n",
    "        a[4]+=1\n",
    "ls=[]\n",
    "for i in range(len(a)):\n",
    "    ls.append(a[i])\n",
    "ls\n"
   ]
  },
  {
   "cell_type": "code",
   "execution_count": 148,
   "metadata": {},
   "outputs": [
    {
     "data": {
      "text/plain": [
       "[563, 93, 46, 38, 14]"
      ]
     },
     "execution_count": 148,
     "metadata": {},
     "output_type": "execute_result"
    },
    {
     "data": {
      "image/png": "[encoded data removed]",
      "text/plain": [
       "<Figure size 432x288 with 1 Axes>"
      ]
     },
     "metadata": {
      "needs_background": "light"
     },
     "output_type": "display_data"
    },
    {
     "data": {
      "image/png": "[encoded data removed]",
      "text/plain": [
       "<Figure size 1440x720 with 1 Axes>"
      ]
     },
     "metadata": {
      "needs_background": "light"
     },
     "output_type": "display_data"
    }
   ],
   "source": [
    "content=['1.00-99.30','99.30-197.60','197.60-295.90','295.90-394.20','394.20-492.50']\n",
    "plt.title(\"totalReviews\")\n",
    "plt.xlabel(\"totalReviews\")\n",
    "plt.ylabel(\"frequency\")\n",
    "f,ax=plt.subplots(figsize=(20,10))\n",
    "plt.xticks(rotation=0)\n",
    "mobiles=plt.bar(content,ls,align=\"center\")\n",
    "mobiles[0].set_color('b')\n",
    "mobiles[1].set_color('r')\n",
    "mobiles[2].set_color('g')\n",
    "mobiles[3].set_color('y')\n",
    "mobiles[4].set_color('k')\n",
    "ls"
   ]
  },
  {
   "cell_type": "code",
   "execution_count": 155,
   "metadata": {},
   "outputs": [],
   "source": [
    "b=np.array([0,0,0,0,0,0,0,0,0])"
   ]
  },
  {
   "cell_type": "code",
   "execution_count": 156,
   "metadata": {},
   "outputs": [
    {
     "name": "stderr",
     "output_type": "stream",
     "text": [
      "c:\\users\\hp\\appdata\\local\\programs\\python\\python37-32\\lib\\site-packages\\ipykernel_launcher.py:2: FutureWarning: get_value is deprecated and will be removed in a future release. Please use .at[] or .iat[] accessors instead\n",
      "  \n",
      "c:\\users\\hp\\appdata\\local\\programs\\python\\python37-32\\lib\\site-packages\\ipykernel_launcher.py:4: FutureWarning: get_value is deprecated and will be removed in a future release. Please use .at[] or .iat[] accessors instead\n",
      "  after removing the cwd from sys.path.\n",
      "c:\\users\\hp\\appdata\\local\\programs\\python\\python37-32\\lib\\site-packages\\ipykernel_launcher.py:6: FutureWarning: get_value is deprecated and will be removed in a future release. Please use .at[] or .iat[] accessors instead\n",
      "  \n",
      "c:\\users\\hp\\appdata\\local\\programs\\python\\python37-32\\lib\\site-packages\\ipykernel_launcher.py:8: FutureWarning: get_value is deprecated and will be removed in a future release. Please use .at[] or .iat[] accessors instead\n",
      "  \n",
      "c:\\users\\hp\\appdata\\local\\programs\\python\\python37-32\\lib\\site-packages\\ipykernel_launcher.py:10: FutureWarning: get_value is deprecated and will be removed in a future release. Please use .at[] or .iat[] accessors instead\n",
      "  # Remove the CWD from sys.path while we load stuff.\n",
      "c:\\users\\hp\\appdata\\local\\programs\\python\\python37-32\\lib\\site-packages\\ipykernel_launcher.py:12: FutureWarning: get_value is deprecated and will be removed in a future release. Please use .at[] or .iat[] accessors instead\n",
      "  if sys.path[0] == '':\n",
      "c:\\users\\hp\\appdata\\local\\programs\\python\\python37-32\\lib\\site-packages\\ipykernel_launcher.py:14: FutureWarning: get_value is deprecated and will be removed in a future release. Please use .at[] or .iat[] accessors instead\n",
      "  \n",
      "c:\\users\\hp\\appdata\\local\\programs\\python\\python37-32\\lib\\site-packages\\ipykernel_launcher.py:16: FutureWarning: get_value is deprecated and will be removed in a future release. Please use .at[] or .iat[] accessors instead\n",
      "  app.launch_new_instance()\n",
      "c:\\users\\hp\\appdata\\local\\programs\\python\\python37-32\\lib\\site-packages\\ipykernel_launcher.py:18: FutureWarning: get_value is deprecated and will be removed in a future release. Please use .at[] or .iat[] accessors instead\n"
     ]
    },
    {
     "data": {
      "text/plain": [
       "[12, 15, 14, 56, 135, 207, 211, 101, 16]"
      ]
     },
     "execution_count": 156,
     "metadata": {},
     "output_type": "execute_result"
    }
   ],
   "source": [
    "for i in range(len(mobiles)):\n",
    "    if(mobiles['rating'].get_value(i)>=1.00 and mobiles['rating'].get_value(i)<1.40):\n",
    "        b[0]+=1\n",
    "    if(mobiles['rating'].get_value(i)>=1.40 and mobiles['rating'].get_value(i)<2.20):\n",
    "        b[1]+=1\n",
    "    if(mobiles['rating'].get_value(i)>=2.20 and mobiles['rating'].get_value(i)<2.60):\n",
    "        b[2]+=1\n",
    "    if(mobiles['rating'].get_value(i)>=2.60 and mobiles['rating'].get_value(i)<3.00):\n",
    "        b[3]+=1\n",
    "    if(mobiles['rating'].get_value(i)>=3.00 and mobiles['rating'].get_value(i)<3.40):\n",
    "        b[4]+=1\n",
    "    if(mobiles['rating'].get_value(i)>=3.40 and mobiles['rating'].get_value(i)<3.80):\n",
    "        b[5]+=1\n",
    "    if(mobiles['rating'].get_value(i)>=3.80 and mobiles['rating'].get_value(i)<4.20):\n",
    "        b[6]+=1\n",
    "    if(mobiles['rating'].get_value(i)>=4.20 and mobiles['rating'].get_value(i)<4.60):\n",
    "        b[7]+=1\n",
    "    if(mobiles['rating'].get_value(i)>=4.60 and mobiles['rating'].get_value(i)<5.00):\n",
    "        b[8]+=1\n",
    "ls1=[]\n",
    "for i in range(len(b)):\n",
    "    ls1.append(b[i])\n",
    "ls1\n",
    "       "
   ]
  },
  {
   "cell_type": "code",
   "execution_count": 157,
   "metadata": {},
   "outputs": [
    {
     "data": {
      "image/png": "[encoded data removed]",
      "text/plain": [
       "<Figure size 432x288 with 1 Axes>"
      ]
     },
     "metadata": {
      "needs_background": "light"
     },
     "output_type": "display_data"
    }
   ],
   "source": [
    "content1=['1.00-1.40','1.40-2.20','2.20-2.60','2.60-3.00','3.00-3.40','3.40-3.80','3.80-4.20','4.20-4.60','4.60-5.00']\n",
    "plt.title(\"rating\")\n",
    "plt.xlabel(\"rating\")\n",
    "plt.ylabel(\"count\")\n",
    "plt.plot(content1,ls1,color='green',linestyle='dashed',linewidth=4,marker='o',markerfacecolor='red',markersize=14)\n",
    "plt.show()"
   ]
  },
  {
   "cell_type": "code",
   "execution_count": 162,
   "metadata": {},
   "outputs": [],
   "source": [
    "c=np.array([0,0,0,0])"
   ]
  },
  {
   "cell_type": "code",
   "execution_count": 163,
   "metadata": {},
   "outputs": [
    {
     "name": "stderr",
     "output_type": "stream",
     "text": [
      "c:\\users\\hp\\appdata\\local\\programs\\python\\python37-32\\lib\\site-packages\\ipykernel_launcher.py:2: FutureWarning: get_value is deprecated and will be removed in a future release. Please use .at[] or .iat[] accessors instead\n",
      "  \n",
      "c:\\users\\hp\\appdata\\local\\programs\\python\\python37-32\\lib\\site-packages\\ipykernel_launcher.py:4: FutureWarning: get_value is deprecated and will be removed in a future release. Please use .at[] or .iat[] accessors instead\n",
      "  after removing the cwd from sys.path.\n",
      "c:\\users\\hp\\appdata\\local\\programs\\python\\python37-32\\lib\\site-packages\\ipykernel_launcher.py:6: FutureWarning: get_value is deprecated and will be removed in a future release. Please use .at[] or .iat[] accessors instead\n",
      "  \n",
      "c:\\users\\hp\\appdata\\local\\programs\\python\\python37-32\\lib\\site-packages\\ipykernel_launcher.py:8: FutureWarning: get_value is deprecated and will be removed in a future release. Please use .at[] or .iat[] accessors instead\n",
      "  \n"
     ]
    },
    {
     "data": {
      "text/plain": [
       "[397, 101, 49, 100]"
      ]
     },
     "execution_count": 163,
     "metadata": {},
     "output_type": "execute_result"
    }
   ],
   "source": [
    "for i in range(len(mobiles)):\n",
    "    if(mobiles['brand'].get_value(i)=='Samsung'):\n",
    "        c[0]+=1\n",
    "    elif(mobiles['brand'].get_value(i)=='Apple'):\n",
    "        c[1]+=1\n",
    "    elif(mobiles['brand'].get_value(i)=='Nokia'):\n",
    "        c[2]+=1\n",
    "    elif(mobiles['brand'].get_value(i)=='Motorola'):\n",
    "        c[3]+=1\n",
    "ls2=[]\n",
    "for i in  range(len(c)):\n",
    "    ls2.append(c[i])\n",
    "ls2"
   ]
  },
  {
   "cell_type": "code",
   "execution_count": 164,
   "metadata": {},
   "outputs": [
    {
     "data": {
      "text/plain": [
       "[397, 101, 49, 100]"
      ]
     },
     "execution_count": 164,
     "metadata": {},
     "output_type": "execute_result"
    },
    {
     "data": {
      "image/png": "[encoded data removed]",
      "text/plain": [
       "<Figure size 432x288 with 1 Axes>"
      ]
     },
     "metadata": {},
     "output_type": "display_data"
    }
   ],
   "source": [
    "content2=['Samsung','Apple','Nokia','Motorola']\n",
    "plt.title(\"Brand\")\n",
    "explode=(0.1,0.1,0.1,0.1)\n",
    "plt.pie(ls2,labels=content2,explode=explode)\n",
    "ls2"
   ]
  },
  {
   "cell_type": "code",
   "execution_count": 169,
   "metadata": {},
   "outputs": [],
   "source": [
    "d=np.array([0,0,0,0])"
   ]
  },
  {
   "cell_type": "code",
   "execution_count": 170,
   "metadata": {},
   "outputs": [
    {
     "name": "stderr",
     "output_type": "stream",
     "text": [
      "c:\\users\\hp\\appdata\\local\\programs\\python\\python37-32\\lib\\site-packages\\ipykernel_launcher.py:2: FutureWarning: get_value is deprecated and will be removed in a future release. Please use .at[] or .iat[] accessors instead\n",
      "  \n",
      "c:\\users\\hp\\appdata\\local\\programs\\python\\python37-32\\lib\\site-packages\\ipykernel_launcher.py:4: FutureWarning: get_value is deprecated and will be removed in a future release. Please use .at[] or .iat[] accessors instead\n",
      "  after removing the cwd from sys.path.\n",
      "c:\\users\\hp\\appdata\\local\\programs\\python\\python37-32\\lib\\site-packages\\ipykernel_launcher.py:6: FutureWarning: get_value is deprecated and will be removed in a future release. Please use .at[] or .iat[] accessors instead\n",
      "  \n"
     ]
    },
    {
     "data": {
      "text/plain": [
       "[8, 8, 0, 776]"
      ]
     },
     "execution_count": 170,
     "metadata": {},
     "output_type": "execute_result"
    }
   ],
   "source": [
    "for i in range(len(mobiles)):\n",
    "    if(mobiles['prices'].get_value(i)=='$199.99'):\n",
    "               d[0]+=1\n",
    "    elif(mobiles['prices'].get_value(i)=='$249.99'):\n",
    "               d[1]+=1\n",
    "    elif(mobiles['prices'].get_value(i)=='null'):\n",
    "               d[2]+=1\n",
    "d[3]=len(mobiles)-(d[0]+d[1]+d[2])\n",
    "ls3=[]\n",
    "for i in range(len(d)):\n",
    "    ls3.append(d[i])\n",
    "ls3"
   ]
  },
  {
   "cell_type": "code",
   "execution_count": 171,
   "metadata": {},
   "outputs": [
    {
     "data": {
      "image/png": "[encoded data removed]",
      "text/plain": [
       "<Figure size 432x288 with 1 Axes>"
      ]
     },
     "metadata": {
      "needs_background": "light"
     },
     "output_type": "display_data"
    }
   ],
   "source": [
    "content3=['$199.99','$249.99','null','Other']\n",
    "plt.title('prices')\n",
    "plt.xlabel('prices')\n",
    "plt.ylabel('frequency')\n",
    "plt.scatter(content3,ls3,label=\"stars\",color=\"blue\",marker=\"*\",s=30)\n",
    "plt.legend()\n",
    "plt.show()"
   ]
  },
  {
   "cell_type": "code",
   "execution_count": null,
   "metadata": {},
   "outputs": [],
   "source": []
  }
 ],
 "metadata": {
  "kernelspec": {
   "display_name": "Python 3",
   "language": "python",
   "name": "python3"
  },
  "language_info": {
   "codemirror_mode": {
    "name": "ipython",
    "version": 3
   },
   "file_extension": ".py",
   "mimetype": "text/x-python",
   "name": "python",
   "nbconvert_exporter": "python",
   "pygments_lexer": "ipython3",
   "version": "3.7.4"
  }
 },
 "nbformat": 4,
 "nbformat_minor": 2
}
